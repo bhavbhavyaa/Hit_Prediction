{
 "cells": [
  {
   "cell_type": "code",
   "execution_count": 1,
   "metadata": {},
   "outputs": [],
   "source": [
    "import numpy as np\n",
    "import pandas as pd\n",
    "import tensorflow as tf\n",
    "from sklearn import preprocessing\n",
    "import matplotlib.pyplot as plt\n",
    "import os\n",
    "import zipfile\n",
    "%matplotlib inline\n",
    "# Set random seed\n",
    "np.random.seed(0)"
   ]
  },
  {
   "cell_type": "code",
   "execution_count": 2,
   "metadata": {},
   "outputs": [],
   "source": [
    "file = \"archive (5).zip\"  \n",
    "data = zipfile.ZipFile(file,'r')\n",
    "data.extractall(\"Spotify\")"
   ]
  },
  {
   "cell_type": "code",
   "execution_count": 3,
   "metadata": {},
   "outputs": [
    {
     "data": {
      "text/html": [
       "<div>\n",
       "<style scoped>\n",
       "    .dataframe tbody tr th:only-of-type {\n",
       "        vertical-align: middle;\n",
       "    }\n",
       "\n",
       "    .dataframe tbody tr th {\n",
       "        vertical-align: top;\n",
       "    }\n",
       "\n",
       "    .dataframe thead th {\n",
       "        text-align: right;\n",
       "    }\n",
       "</style>\n",
       "<table border=\"1\" class=\"dataframe\">\n",
       "  <thead>\n",
       "    <tr style=\"text-align: right;\">\n",
       "      <th></th>\n",
       "      <th>track</th>\n",
       "      <th>artist</th>\n",
       "      <th>uri</th>\n",
       "      <th>danceability</th>\n",
       "      <th>energy</th>\n",
       "      <th>key</th>\n",
       "      <th>loudness</th>\n",
       "      <th>mode</th>\n",
       "      <th>speechiness</th>\n",
       "      <th>acousticness</th>\n",
       "      <th>instrumentalness</th>\n",
       "      <th>liveness</th>\n",
       "      <th>valence</th>\n",
       "      <th>tempo</th>\n",
       "      <th>duration_ms</th>\n",
       "      <th>time_signature</th>\n",
       "      <th>chorus_hit</th>\n",
       "      <th>sections</th>\n",
       "      <th>target</th>\n",
       "    </tr>\n",
       "  </thead>\n",
       "  <tbody>\n",
       "    <tr>\n",
       "      <th>0</th>\n",
       "      <td>Misty Roses</td>\n",
       "      <td>Astrud Gilberto</td>\n",
       "      <td>spotify:track:50RBM1j1Dw7WYmsGsWg9Tm</td>\n",
       "      <td>0.527</td>\n",
       "      <td>0.316</td>\n",
       "      <td>1</td>\n",
       "      <td>-15.769</td>\n",
       "      <td>1</td>\n",
       "      <td>0.0310</td>\n",
       "      <td>0.693000</td>\n",
       "      <td>0.00699</td>\n",
       "      <td>0.1680</td>\n",
       "      <td>0.543</td>\n",
       "      <td>116.211</td>\n",
       "      <td>158840</td>\n",
       "      <td>4</td>\n",
       "      <td>53.89523</td>\n",
       "      <td>6</td>\n",
       "      <td>0</td>\n",
       "    </tr>\n",
       "    <tr>\n",
       "      <th>1</th>\n",
       "      <td>Never Ever</td>\n",
       "      <td>All Saints</td>\n",
       "      <td>spotify:track:5FTz9qQ94PyUHETyAyfYZN</td>\n",
       "      <td>0.738</td>\n",
       "      <td>0.541</td>\n",
       "      <td>1</td>\n",
       "      <td>-5.485</td>\n",
       "      <td>1</td>\n",
       "      <td>0.0311</td>\n",
       "      <td>0.559000</td>\n",
       "      <td>0.00000</td>\n",
       "      <td>0.0492</td>\n",
       "      <td>0.309</td>\n",
       "      <td>134.187</td>\n",
       "      <td>387573</td>\n",
       "      <td>4</td>\n",
       "      <td>32.16853</td>\n",
       "      <td>16</td>\n",
       "      <td>1</td>\n",
       "    </tr>\n",
       "    <tr>\n",
       "      <th>2</th>\n",
       "      <td>Soul Sermon</td>\n",
       "      <td>Gregg Karukas</td>\n",
       "      <td>spotify:track:6m24oe3lk1UMxq9zq4iPFi</td>\n",
       "      <td>0.736</td>\n",
       "      <td>0.419</td>\n",
       "      <td>0</td>\n",
       "      <td>-10.662</td>\n",
       "      <td>1</td>\n",
       "      <td>0.0300</td>\n",
       "      <td>0.693000</td>\n",
       "      <td>0.49500</td>\n",
       "      <td>0.0809</td>\n",
       "      <td>0.265</td>\n",
       "      <td>93.982</td>\n",
       "      <td>237267</td>\n",
       "      <td>4</td>\n",
       "      <td>42.05369</td>\n",
       "      <td>9</td>\n",
       "      <td>0</td>\n",
       "    </tr>\n",
       "    <tr>\n",
       "      <th>3</th>\n",
       "      <td>Clarinet Marmalade - Live</td>\n",
       "      <td>Alton Purnell</td>\n",
       "      <td>spotify:track:5FOXuiLI6knVtgMUjWKj6x</td>\n",
       "      <td>0.565</td>\n",
       "      <td>0.594</td>\n",
       "      <td>5</td>\n",
       "      <td>-13.086</td>\n",
       "      <td>1</td>\n",
       "      <td>0.0646</td>\n",
       "      <td>0.655000</td>\n",
       "      <td>0.92600</td>\n",
       "      <td>0.6750</td>\n",
       "      <td>0.763</td>\n",
       "      <td>114.219</td>\n",
       "      <td>375933</td>\n",
       "      <td>4</td>\n",
       "      <td>80.99693</td>\n",
       "      <td>10</td>\n",
       "      <td>0</td>\n",
       "    </tr>\n",
       "    <tr>\n",
       "      <th>4</th>\n",
       "      <td>До смерті і довше - Drum &amp; Base and Rock Remix</td>\n",
       "      <td>Skryabin</td>\n",
       "      <td>spotify:track:6CxyIPTqSPvAPXfrIZczs4</td>\n",
       "      <td>0.513</td>\n",
       "      <td>0.760</td>\n",
       "      <td>4</td>\n",
       "      <td>-10.077</td>\n",
       "      <td>1</td>\n",
       "      <td>0.0355</td>\n",
       "      <td>0.000017</td>\n",
       "      <td>0.00339</td>\n",
       "      <td>0.1530</td>\n",
       "      <td>0.961</td>\n",
       "      <td>153.166</td>\n",
       "      <td>430653</td>\n",
       "      <td>4</td>\n",
       "      <td>25.57331</td>\n",
       "      <td>20</td>\n",
       "      <td>0</td>\n",
       "    </tr>\n",
       "  </tbody>\n",
       "</table>\n",
       "</div>"
      ],
      "text/plain": [
       "                                            track           artist  \\\n",
       "0                                     Misty Roses  Astrud Gilberto   \n",
       "1                                      Never Ever       All Saints   \n",
       "2                                     Soul Sermon    Gregg Karukas   \n",
       "3                       Clarinet Marmalade - Live    Alton Purnell   \n",
       "4  До смерті і довше - Drum & Base and Rock Remix         Skryabin   \n",
       "\n",
       "                                    uri  danceability  energy  key  loudness  \\\n",
       "0  spotify:track:50RBM1j1Dw7WYmsGsWg9Tm         0.527   0.316    1   -15.769   \n",
       "1  spotify:track:5FTz9qQ94PyUHETyAyfYZN         0.738   0.541    1    -5.485   \n",
       "2  spotify:track:6m24oe3lk1UMxq9zq4iPFi         0.736   0.419    0   -10.662   \n",
       "3  spotify:track:5FOXuiLI6knVtgMUjWKj6x         0.565   0.594    5   -13.086   \n",
       "4  spotify:track:6CxyIPTqSPvAPXfrIZczs4         0.513   0.760    4   -10.077   \n",
       "\n",
       "   mode  speechiness  acousticness  instrumentalness  liveness  valence  \\\n",
       "0     1       0.0310      0.693000           0.00699    0.1680    0.543   \n",
       "1     1       0.0311      0.559000           0.00000    0.0492    0.309   \n",
       "2     1       0.0300      0.693000           0.49500    0.0809    0.265   \n",
       "3     1       0.0646      0.655000           0.92600    0.6750    0.763   \n",
       "4     1       0.0355      0.000017           0.00339    0.1530    0.961   \n",
       "\n",
       "     tempo  duration_ms  time_signature  chorus_hit  sections  target  \n",
       "0  116.211       158840               4    53.89523         6       0  \n",
       "1  134.187       387573               4    32.16853        16       1  \n",
       "2   93.982       237267               4    42.05369         9       0  \n",
       "3  114.219       375933               4    80.99693        10       0  \n",
       "4  153.166       430653               4    25.57331        20       0  "
      ]
     },
     "execution_count": 3,
     "metadata": {},
     "output_type": "execute_result"
    }
   ],
   "source": [
    "data = pd.read_csv(\"Spotify/dataset-of-90s.csv\")\n",
    "data.head()"
   ]
  },
  {
   "cell_type": "code",
   "execution_count": 4,
   "metadata": {},
   "outputs": [
    {
     "data": {
      "text/plain": [
       "1    2760\n",
       "0    2760\n",
       "Name: target, dtype: int64"
      ]
     },
     "execution_count": 4,
     "metadata": {},
     "output_type": "execute_result"
    }
   ],
   "source": [
    " data.target.value_counts()"
   ]
  },
  {
   "cell_type": "code",
   "execution_count": 5,
   "metadata": {},
   "outputs": [
    {
     "data": {
      "text/html": [
       "<div>\n",
       "<style scoped>\n",
       "    .dataframe tbody tr th:only-of-type {\n",
       "        vertical-align: middle;\n",
       "    }\n",
       "\n",
       "    .dataframe tbody tr th {\n",
       "        vertical-align: top;\n",
       "    }\n",
       "\n",
       "    .dataframe thead th {\n",
       "        text-align: right;\n",
       "    }\n",
       "</style>\n",
       "<table border=\"1\" class=\"dataframe\">\n",
       "  <thead>\n",
       "    <tr style=\"text-align: right;\">\n",
       "      <th></th>\n",
       "      <th>track</th>\n",
       "      <th>artist</th>\n",
       "      <th>uri</th>\n",
       "      <th>danceability</th>\n",
       "      <th>energy</th>\n",
       "      <th>key</th>\n",
       "      <th>loudness</th>\n",
       "      <th>mode</th>\n",
       "      <th>speechiness</th>\n",
       "      <th>acousticness</th>\n",
       "      <th>instrumentalness</th>\n",
       "      <th>liveness</th>\n",
       "      <th>valence</th>\n",
       "      <th>tempo</th>\n",
       "      <th>duration_ms</th>\n",
       "      <th>time_signature</th>\n",
       "      <th>chorus_hit</th>\n",
       "      <th>sections</th>\n",
       "      <th>target</th>\n",
       "    </tr>\n",
       "  </thead>\n",
       "  <tbody>\n",
       "    <tr>\n",
       "      <th>5253</th>\n",
       "      <td>Mètché Dershé (When Am I Going to Reach There?)</td>\n",
       "      <td>Mulatu Astatke</td>\n",
       "      <td>spotify:track:4MpyYQeDHw3wHb4VNTbWQY</td>\n",
       "      <td>0.632</td>\n",
       "      <td>0.513</td>\n",
       "      <td>7</td>\n",
       "      <td>-8.922</td>\n",
       "      <td>1</td>\n",
       "      <td>0.0351</td>\n",
       "      <td>0.78300</td>\n",
       "      <td>0.482000</td>\n",
       "      <td>0.215</td>\n",
       "      <td>0.383</td>\n",
       "      <td>126.359</td>\n",
       "      <td>240187</td>\n",
       "      <td>4</td>\n",
       "      <td>30.75284</td>\n",
       "      <td>13</td>\n",
       "      <td>0</td>\n",
       "    </tr>\n",
       "    <tr>\n",
       "      <th>1902</th>\n",
       "      <td>Can't Truss It</td>\n",
       "      <td>Public Enemy</td>\n",
       "      <td>spotify:track:5r5uZvXHbE4X6CdhnSATtX</td>\n",
       "      <td>0.802</td>\n",
       "      <td>0.872</td>\n",
       "      <td>11</td>\n",
       "      <td>-7.651</td>\n",
       "      <td>1</td>\n",
       "      <td>0.1390</td>\n",
       "      <td>0.00196</td>\n",
       "      <td>0.000000</td>\n",
       "      <td>0.132</td>\n",
       "      <td>0.607</td>\n",
       "      <td>101.664</td>\n",
       "      <td>321573</td>\n",
       "      <td>4</td>\n",
       "      <td>30.72992</td>\n",
       "      <td>12</td>\n",
       "      <td>1</td>\n",
       "    </tr>\n",
       "    <tr>\n",
       "      <th>405</th>\n",
       "      <td>On Bended Knee</td>\n",
       "      <td>Boyz II Men</td>\n",
       "      <td>spotify:track:7MYmo0JJJDmu4MZTSAF9y3</td>\n",
       "      <td>0.631</td>\n",
       "      <td>0.516</td>\n",
       "      <td>8</td>\n",
       "      <td>-8.225</td>\n",
       "      <td>1</td>\n",
       "      <td>0.0353</td>\n",
       "      <td>0.41300</td>\n",
       "      <td>0.000000</td>\n",
       "      <td>0.115</td>\n",
       "      <td>0.180</td>\n",
       "      <td>116.654</td>\n",
       "      <td>329800</td>\n",
       "      <td>4</td>\n",
       "      <td>43.33309</td>\n",
       "      <td>14</td>\n",
       "      <td>1</td>\n",
       "    </tr>\n",
       "    <tr>\n",
       "      <th>5390</th>\n",
       "      <td>Who Cares</td>\n",
       "      <td>Stan Getz</td>\n",
       "      <td>spotify:track:23FzH0YCzfSTwq0aFoKa1o</td>\n",
       "      <td>0.505</td>\n",
       "      <td>0.294</td>\n",
       "      <td>0</td>\n",
       "      <td>-17.080</td>\n",
       "      <td>1</td>\n",
       "      <td>0.0332</td>\n",
       "      <td>0.80700</td>\n",
       "      <td>0.069200</td>\n",
       "      <td>0.106</td>\n",
       "      <td>0.582</td>\n",
       "      <td>105.628</td>\n",
       "      <td>421000</td>\n",
       "      <td>4</td>\n",
       "      <td>39.24387</td>\n",
       "      <td>18</td>\n",
       "      <td>0</td>\n",
       "    </tr>\n",
       "    <tr>\n",
       "      <th>142</th>\n",
       "      <td>Suspicious (West Coast Experimental Pop Art Mix)</td>\n",
       "      <td>Psychic TV</td>\n",
       "      <td>spotify:track:4As0uOWi3MhnuaKfkm2eC2</td>\n",
       "      <td>0.311</td>\n",
       "      <td>0.255</td>\n",
       "      <td>0</td>\n",
       "      <td>-17.118</td>\n",
       "      <td>1</td>\n",
       "      <td>0.0336</td>\n",
       "      <td>0.68900</td>\n",
       "      <td>0.000645</td>\n",
       "      <td>0.119</td>\n",
       "      <td>0.182</td>\n",
       "      <td>96.419</td>\n",
       "      <td>446107</td>\n",
       "      <td>3</td>\n",
       "      <td>71.80261</td>\n",
       "      <td>15</td>\n",
       "      <td>0</td>\n",
       "    </tr>\n",
       "  </tbody>\n",
       "</table>\n",
       "</div>"
      ],
      "text/plain": [
       "                                                 track          artist  \\\n",
       "5253   Mètché Dershé (When Am I Going to Reach There?)  Mulatu Astatke   \n",
       "1902                                    Can't Truss It    Public Enemy   \n",
       "405                                     On Bended Knee     Boyz II Men   \n",
       "5390                                         Who Cares       Stan Getz   \n",
       "142   Suspicious (West Coast Experimental Pop Art Mix)      Psychic TV   \n",
       "\n",
       "                                       uri  danceability  energy  key  \\\n",
       "5253  spotify:track:4MpyYQeDHw3wHb4VNTbWQY         0.632   0.513    7   \n",
       "1902  spotify:track:5r5uZvXHbE4X6CdhnSATtX         0.802   0.872   11   \n",
       "405   spotify:track:7MYmo0JJJDmu4MZTSAF9y3         0.631   0.516    8   \n",
       "5390  spotify:track:23FzH0YCzfSTwq0aFoKa1o         0.505   0.294    0   \n",
       "142   spotify:track:4As0uOWi3MhnuaKfkm2eC2         0.311   0.255    0   \n",
       "\n",
       "      loudness  mode  speechiness  acousticness  instrumentalness  liveness  \\\n",
       "5253    -8.922     1       0.0351       0.78300          0.482000     0.215   \n",
       "1902    -7.651     1       0.1390       0.00196          0.000000     0.132   \n",
       "405     -8.225     1       0.0353       0.41300          0.000000     0.115   \n",
       "5390   -17.080     1       0.0332       0.80700          0.069200     0.106   \n",
       "142    -17.118     1       0.0336       0.68900          0.000645     0.119   \n",
       "\n",
       "      valence    tempo  duration_ms  time_signature  chorus_hit  sections  \\\n",
       "5253    0.383  126.359       240187               4    30.75284        13   \n",
       "1902    0.607  101.664       321573               4    30.72992        12   \n",
       "405     0.180  116.654       329800               4    43.33309        14   \n",
       "5390    0.582  105.628       421000               4    39.24387        18   \n",
       "142     0.182   96.419       446107               3    71.80261        15   \n",
       "\n",
       "      target  \n",
       "5253       0  \n",
       "1902       1  \n",
       "405        1  \n",
       "5390       0  \n",
       "142        0  "
      ]
     },
     "execution_count": 5,
     "metadata": {},
     "output_type": "execute_result"
    }
   ],
   "source": [
    "data = data.sample(frac=1)\n",
    "data.head()"
   ]
  },
  {
   "cell_type": "code",
   "execution_count": 6,
   "metadata": {},
   "outputs": [
    {
     "name": "stdout",
     "output_type": "stream",
     "text": [
      "<class 'pandas.core.frame.DataFrame'>\n",
      "Int64Index: 5520 entries, 5253 to 2732\n",
      "Data columns (total 19 columns):\n",
      " #   Column            Non-Null Count  Dtype  \n",
      "---  ------            --------------  -----  \n",
      " 0   track             5520 non-null   object \n",
      " 1   artist            5520 non-null   object \n",
      " 2   uri               5520 non-null   object \n",
      " 3   danceability      5520 non-null   float64\n",
      " 4   energy            5520 non-null   float64\n",
      " 5   key               5520 non-null   int64  \n",
      " 6   loudness          5520 non-null   float64\n",
      " 7   mode              5520 non-null   int64  \n",
      " 8   speechiness       5520 non-null   float64\n",
      " 9   acousticness      5520 non-null   float64\n",
      " 10  instrumentalness  5520 non-null   float64\n",
      " 11  liveness          5520 non-null   float64\n",
      " 12  valence           5520 non-null   float64\n",
      " 13  tempo             5520 non-null   float64\n",
      " 14  duration_ms       5520 non-null   int64  \n",
      " 15  time_signature    5520 non-null   int64  \n",
      " 16  chorus_hit        5520 non-null   float64\n",
      " 17  sections          5520 non-null   int64  \n",
      " 18  target            5520 non-null   int64  \n",
      "dtypes: float64(10), int64(6), object(3)\n",
      "memory usage: 862.5+ KB\n"
     ]
    }
   ],
   "source": [
    "data.info()"
   ]
  },
  {
   "cell_type": "code",
   "execution_count": 7,
   "metadata": {},
   "outputs": [],
   "source": [
    "data.drop([\"track\",\"artist\",\"uri\"],axis=1,inplace=True)"
   ]
  },
  {
   "cell_type": "code",
   "execution_count": 8,
   "metadata": {},
   "outputs": [],
   "source": [
    "unscaled_inputs = data.iloc[:,0:-1]\n",
    "target = data.iloc[:,[-1]]"
   ]
  },
  {
   "cell_type": "code",
   "execution_count": 9,
   "metadata": {},
   "outputs": [
    {
     "data": {
      "text/plain": [
       "array([[ 0.36098971, -0.35391869,  0.49470991, ...,  0.21981357,\n",
       "        -0.51387208,  0.41736857],\n",
       "       [ 1.3035659 ,  1.06974454,  1.63396677, ...,  0.21981357,\n",
       "        -0.51502154,  0.1943842 ],\n",
       "       [ 0.35544514, -0.34202178,  0.77952412, ...,  0.21981357,\n",
       "         0.11703873,  0.64035294],\n",
       "       ...,\n",
       "       [-1.64059856,  1.37906413, -0.07491852, ...,  0.21981357,\n",
       "         1.10771952, -1.14352202],\n",
       "       [ 0.11148424,  0.38368956, -0.92936117, ...,  0.21981357,\n",
       "        -0.82875902,  0.1943842 ],\n",
       "       [-0.71465607,  1.20061052,  1.06433834, ...,  0.21981357,\n",
       "        -0.38342709, -0.69755328]])"
      ]
     },
     "execution_count": 9,
     "metadata": {},
     "output_type": "execute_result"
    }
   ],
   "source": [
    "scaled_inputs = preprocessing.scale(unscaled_inputs)\n",
    "scaled_inputs"
   ]
  },
  {
   "cell_type": "code",
   "execution_count": 10,
   "metadata": {},
   "outputs": [
    {
     "data": {
      "text/plain": [
       "5520"
      ]
     },
     "execution_count": 10,
     "metadata": {},
     "output_type": "execute_result"
    }
   ],
   "source": [
    "samples_count = scaled_inputs.shape[0]\n",
    "samples_count"
   ]
  },
  {
   "cell_type": "code",
   "execution_count": 11,
   "metadata": {},
   "outputs": [],
   "source": [
    "train_samples_count = int(0.8*samples_count)\n",
    "validation_samples_count = int(0.1*samples_count)\n",
    "test_samples_count = samples_count - train_samples_count - validation_samples_count"
   ]
  },
  {
   "cell_type": "code",
   "execution_count": 12,
   "metadata": {},
   "outputs": [],
   "source": [
    "# train:\n",
    "train_inputs = scaled_inputs[:train_samples_count]\n",
    "train_targets = target[:train_samples_count]"
   ]
  },
  {
   "cell_type": "code",
   "execution_count": 13,
   "metadata": {},
   "outputs": [],
   "source": [
    "# validation:\n",
    "validation_inputs = scaled_inputs[train_samples_count:train_samples_count+validation_samples_count]\n",
    "validation_targets = target[train_samples_count:train_samples_count+validation_samples_count]"
   ]
  },
  {
   "cell_type": "code",
   "execution_count": 14,
   "metadata": {},
   "outputs": [],
   "source": [
    "# test:\n",
    "test_inputs = scaled_inputs[train_samples_count+validation_samples_count:]\n",
    "test_targets = target[train_samples_count+validation_samples_count:]"
   ]
  },
  {
   "cell_type": "code",
   "execution_count": 15,
   "metadata": {},
   "outputs": [
    {
     "name": "stdout",
     "output_type": "stream",
     "text": [
      "target    2180\n",
      "dtype: int64 4416 target    0.493659\n",
      "dtype: float64\n",
      "target    297\n",
      "dtype: int64 552 target    0.538043\n",
      "dtype: float64\n",
      "target    283\n",
      "dtype: int64 552 target    0.512681\n",
      "dtype: float64\n"
     ]
    }
   ],
   "source": [
    "# Print the number of targets that are 1s, the total number of samples, and the proportion for training, validation, and test.\n",
    "print(np.sum(train_targets), train_samples_count, np.sum(train_targets) / train_samples_count)\n",
    "print(np.sum(validation_targets), validation_samples_count, np.sum(validation_targets) / validation_samples_count)\n",
    "print(np.sum(test_targets), test_samples_count, np.sum(test_targets) / test_samples_count)"
   ]
  },
  {
   "cell_type": "code",
   "execution_count": 16,
   "metadata": {},
   "outputs": [],
   "source": [
    "# Save the three datasets in *.npz.\n",
    "# We will see that it is extremely valuable to name them in such a coherent way!\n",
    "\n",
    "np.savez('Spotify_data_train', inputs=train_inputs, targets=train_targets)\n",
    "np.savez('Spotify_data_validation', inputs=validation_inputs, targets=validation_targets)\n",
    "np.savez('Spotify_data_test', inputs=test_inputs, targets=test_targets)"
   ]
  },
  {
   "cell_type": "code",
   "execution_count": 17,
   "metadata": {},
   "outputs": [],
   "source": [
    "npz = np.load('Spotify_data_train.npz')\n",
    "# we extract the inputs using the keyword under which we saved them\n",
    "# to ensure that they are all floats, let's also take care of that\n",
    "train_inputs = npz['inputs'].astype(np.float)\n",
    "# targets must be int because of sparse_categorical_crossentropy (we want to be able to smoothly one-hot encode them)\n",
    "train_targets = npz['targets'].astype(np.int)\n",
    "\n",
    "# we load the validation data in the temporary variable\n",
    "npz = np.load('Spotify_data_validation.npz')\n",
    "# we can load the inputs and the targets in the same line\n",
    "validation_inputs, validation_targets = npz['inputs'].astype(np.float), npz['targets'].astype(np.int)\n",
    "\n",
    "# we load the test data in the temporary variable\n",
    "npz = np.load('Spotify_data_test.npz')\n",
    "# we create 2 variables that will contain the test inputs and the test targets\n",
    "test_inputs, test_targets = npz['inputs'].astype(np.float), npz['targets'].astype(np.int)"
   ]
  },
  {
   "cell_type": "code",
   "execution_count": 18,
   "metadata": {},
   "outputs": [],
   "source": [
    "# Set the input and output sizes\n",
    "input_size = 15 # count of features\n",
    "output_size = 2 # count of targets\n",
    "# Use same hidden layer size for both hidden layers. Not a necessity.\n",
    "hidden_layer_size = 50 # counts of neurons\n",
    "    \n",
    "# define how the model will look like\n",
    "model = tf.keras.Sequential([\n",
    "    # tf.keras.layers.Dense is basically implementing: output = activation(dot(input, weight) + bias)\n",
    "    # it takes several arguments, but the most important ones for us are the hidden_layer_size and the activation function\n",
    "    tf.keras.layers.Dense(hidden_layer_size, activation='relu'), # 1st hidden layer\n",
    "    tf.keras.layers.Dense(hidden_layer_size, activation='relu'), # 2nd hidden layer\n",
    "    tf.keras.layers.Dense(hidden_layer_size, activation='relu'), # 3nd hidden layer\n",
    "    # the final layer is no different, we just make sure to activate it with softmax\n",
    "    tf.keras.layers.Dense(output_size, activation='softmax') # output layer\n",
    "])"
   ]
  },
  {
   "cell_type": "code",
   "execution_count": 19,
   "metadata": {},
   "outputs": [],
   "source": [
    "# we define the optimizer we'd like to use, \n",
    "# the loss function, \n",
    "# and the metrics we are interested in obtaining at each iteration\n",
    "#custom_optimizer = tf.keras.optimizers.Adam(learning_rate=0.01)\n",
    "model.compile(optimizer=\"adam\", loss='sparse_categorical_crossentropy', metrics=['accuracy'])"
   ]
  },
  {
   "cell_type": "code",
   "execution_count": 20,
   "metadata": {},
   "outputs": [
    {
     "name": "stdout",
     "output_type": "stream",
     "text": [
      "Epoch 1/20\n",
      "15/15 - 1s - loss: 0.6552 - accuracy: 0.5772 - val_loss: 0.5758 - val_accuracy: 0.7228\n",
      "Epoch 2/20\n",
      "15/15 - 0s - loss: 0.5291 - accuracy: 0.7403 - val_loss: 0.4827 - val_accuracy: 0.7754\n",
      "Epoch 3/20\n",
      "15/15 - 0s - loss: 0.4507 - accuracy: 0.7953 - val_loss: 0.4385 - val_accuracy: 0.7899\n",
      "Epoch 4/20\n",
      "15/15 - 0s - loss: 0.4103 - accuracy: 0.8175 - val_loss: 0.4217 - val_accuracy: 0.8007\n",
      "Epoch 5/20\n",
      "15/15 - 0s - loss: 0.3918 - accuracy: 0.8277 - val_loss: 0.4195 - val_accuracy: 0.8025\n",
      "Epoch 6/20\n",
      "15/15 - 0s - loss: 0.3807 - accuracy: 0.8315 - val_loss: 0.4129 - val_accuracy: 0.8134\n",
      "Epoch 7/20\n",
      "15/15 - 0s - loss: 0.3721 - accuracy: 0.8347 - val_loss: 0.4042 - val_accuracy: 0.8134\n",
      "Epoch 8/20\n",
      "15/15 - 0s - loss: 0.3632 - accuracy: 0.8406 - val_loss: 0.4079 - val_accuracy: 0.8207\n",
      "Epoch 9/20\n",
      "15/15 - 0s - loss: 0.3571 - accuracy: 0.8456 - val_loss: 0.4042 - val_accuracy: 0.8225\n",
      "Epoch 10/20\n",
      "15/15 - 0s - loss: 0.3511 - accuracy: 0.8487 - val_loss: 0.4029 - val_accuracy: 0.8243\n",
      "Epoch 11/20\n",
      "15/15 - 0s - loss: 0.3459 - accuracy: 0.8510 - val_loss: 0.4027 - val_accuracy: 0.8279\n",
      "Epoch 12/20\n",
      "15/15 - 0s - loss: 0.3410 - accuracy: 0.8560 - val_loss: 0.4122 - val_accuracy: 0.8188\n",
      "Epoch 13/20\n",
      "15/15 - 0s - loss: 0.3398 - accuracy: 0.8555 - val_loss: 0.4075 - val_accuracy: 0.8170\n",
      "Epoch 14/20\n",
      "15/15 - 0s - loss: 0.3345 - accuracy: 0.8560 - val_loss: 0.4042 - val_accuracy: 0.8188\n",
      "Epoch 15/20\n",
      "15/15 - 0s - loss: 0.3311 - accuracy: 0.8587 - val_loss: 0.4026 - val_accuracy: 0.8207\n",
      "Epoch 16/20\n",
      "15/15 - 0s - loss: 0.3266 - accuracy: 0.8596 - val_loss: 0.3996 - val_accuracy: 0.8315\n",
      "Epoch 17/20\n",
      "15/15 - 0s - loss: 0.3238 - accuracy: 0.8639 - val_loss: 0.4060 - val_accuracy: 0.8243\n",
      "Epoch 18/20\n",
      "15/15 - 0s - loss: 0.3199 - accuracy: 0.8628 - val_loss: 0.4145 - val_accuracy: 0.8243\n",
      "Epoch 19/20\n",
      "15/15 - 0s - loss: 0.3176 - accuracy: 0.8648 - val_loss: 0.4031 - val_accuracy: 0.8225\n",
      "Epoch 20/20\n",
      "15/15 - 0s - loss: 0.3142 - accuracy: 0.8693 - val_loss: 0.4021 - val_accuracy: 0.8297\n"
     ]
    }
   ],
   "source": [
    "# That's where we train the model we have built.\n",
    "# set the batch size\n",
    "batch_size = 300\n",
    "# set a maximum number of training epochs\n",
    "max_epochs = 20\n",
    "\n",
    "# fit the model\n",
    "# note that this time the train, validation and test data are not iterable\n",
    "history = model.fit(  train_inputs, # train inputs\n",
    "                      train_targets, # train targets\n",
    "                      batch_size=batch_size, # batch size\n",
    "                      epochs=max_epochs, # epochs that we will train for (assuming early stopping doesn't kick in)\n",
    "                      # callbacks are functions called by a task when a task is completed\n",
    "                      # task here is to check if val_loss is increasing\n",
    "                      #callbacks=[early_stopping], # early stopping\n",
    "                      validation_data=(validation_inputs, validation_targets), # validation data\n",
    "                      verbose = 2 # making sure we get enough information about the training process\n",
    "          )  "
   ]
  },
  {
   "cell_type": "code",
   "execution_count": 21,
   "metadata": {},
   "outputs": [
    {
     "name": "stdout",
     "output_type": "stream",
     "text": [
      "Model: \"sequential\"\n",
      "_________________________________________________________________\n",
      "Layer (type)                 Output Shape              Param #   \n",
      "=================================================================\n",
      "dense (Dense)                (None, 50)                800       \n",
      "_________________________________________________________________\n",
      "dense_1 (Dense)              (None, 50)                2550      \n",
      "_________________________________________________________________\n",
      "dense_2 (Dense)              (None, 50)                2550      \n",
      "_________________________________________________________________\n",
      "dense_3 (Dense)              (None, 2)                 102       \n",
      "=================================================================\n",
      "Total params: 6,002\n",
      "Trainable params: 6,002\n",
      "Non-trainable params: 0\n",
      "_________________________________________________________________\n"
     ]
    }
   ],
   "source": [
    "model.summary()"
   ]
  },
  {
   "cell_type": "code",
   "execution_count": 22,
   "metadata": {},
   "outputs": [
    {
     "data": {
      "image/png": "[encoded data removed]",
      "text/plain": [
       "<Figure size 432x288 with 1 Axes>"
      ]
     },
     "metadata": {
      "needs_background": "light"
     },
     "output_type": "display_data"
    }
   ],
   "source": [
    "# Get training and test loss histories\n",
    "training_loss = history.history['loss']\n",
    "validation_loss = history.history['val_loss']\n",
    "\n",
    "# Create count of the number of epochs\n",
    "epoch_count = range(1, len(training_loss) + 1)\n",
    "\n",
    "# Visualize loss history\n",
    "plt.plot(epoch_count, training_loss)\n",
    "plt.plot(epoch_count, validation_loss)\n",
    "plt.legend(['Training Loss', 'Validation Loss'])\n",
    "plt.xlabel('Epoch')\n",
    "plt.ylabel('Loss')\n",
    "plt.show();"
   ]
  },
  {
   "cell_type": "code",
   "execution_count": 23,
   "metadata": {},
   "outputs": [
    {
     "name": "stdout",
     "output_type": "stream",
     "text": [
      "Test loss: 0.39. Test accuracy: 84.96%\n"
     ]
    }
   ],
   "source": [
    "test_loss, test_accuracy = model.evaluate(test_inputs, test_targets, verbose = 0)\n",
    "print('Test loss: {0:.2f}. Test accuracy: {1:.2f}%'.format(test_loss, test_accuracy*100.))"
   ]
  },
  {
   "cell_type": "code",
   "execution_count": null,
   "metadata": {},
   "outputs": [],
   "source": []
  }
 ],
 "metadata": {
  "kernelspec": {
   "display_name": "Python 3",
   "language": "python",
   "name": "python3"
  },
  "language_info": {
   "codemirror_mode": {
    "name": "ipython",
    "version": 3
   },
   "file_extension": ".py",
   "mimetype": "text/x-python",
   "name": "python",
   "nbconvert_exporter": "python",
   "pygments_lexer": "ipython3",
   "version": "3.8.3"
  }
 },
 "nbformat": 4,
 "nbformat_minor": 4
}
